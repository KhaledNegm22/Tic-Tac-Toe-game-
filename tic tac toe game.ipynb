{
 "cells": [
  {
   "cell_type": "code",
   "execution_count": 30,
   "id": "8334f398",
   "metadata": {},
   "outputs": [],
   "source": [
    "from IPython.display import clear_output"
   ]
  },
  {
   "cell_type": "code",
   "execution_count": 31,
   "id": "be25d2e3",
   "metadata": {},
   "outputs": [],
   "source": [
    "def display_board(board):\n",
    "    print(board[1]+'|'+board[2]+'|'+board[3])\n",
    "    print(board[4]+'|'+board[5]+'|'+board[6])\n",
    "    print(board[7]+'|'+board[8]+'|'+board[9])\n",
    "    \n",
    "current_board=['#',' ',' ',' ',' ',' ',' ',' ',' ',' ']"
   ]
  },
  {
   "cell_type": "code",
   "execution_count": 32,
   "id": "5d5b644c",
   "metadata": {},
   "outputs": [
    {
     "name": "stdout",
     "output_type": "stream",
     "text": [
      " | | \n",
      " | | \n",
      " | | \n"
     ]
    }
   ],
   "source": [
    "display_board(current_board)"
   ]
  },
  {
   "cell_type": "code",
   "execution_count": 33,
   "id": "e02340b9",
   "metadata": {},
   "outputs": [],
   "source": [
    "def player_inputX_O():\n",
    "    res = input('enter your choice X or O')\n",
    "    while res not in('x','o'):\n",
    "        print('please select who do u want to start again X or O')\n",
    "        res = input('enter your choice X or O')\n",
    "    return res"
   ]
  },
  {
   "cell_type": "code",
   "execution_count": 34,
   "id": "eb8aa09d",
   "metadata": {},
   "outputs": [],
   "source": [
    "def player_input_X():\n",
    "    while True:\n",
    "        try:\n",
    "            res = int(input('Enter your choice 1-9 for X: '))\n",
    "            if res in range(1, 10):  # Valid input\n",
    "                return res\n",
    "            else:\n",
    "                print('Please enter a number between 1 and 9.')\n",
    "        except ValueError:\n",
    "            print('Invalid input. Please enter a number between 1 and 9.')"
   ]
  },
  {
   "cell_type": "code",
   "execution_count": 35,
   "id": "92f9208f",
   "metadata": {},
   "outputs": [],
   "source": [
    "def player_input_o():\n",
    "    while True:\n",
    "        try:\n",
    "            res = int(input('Enter your choice 1-9 for O: '))\n",
    "            if res in range(1, 10):  # Valid input\n",
    "                return res\n",
    "            else:\n",
    "                print('Please enter a number between 1 and 9')\n",
    "        except ValueError:\n",
    "            print('Invalid input. Please enter a number between 1 and 9')"
   ]
  },
  {
   "cell_type": "code",
   "execution_count": 36,
   "id": "72f85b8d",
   "metadata": {},
   "outputs": [],
   "source": [
    "def game():\n",
    "    current_board=['#',' ',' ',' ',' ',' ',' ',' ',' ',' ']\n",
    "    player_inX_O = player_inputX_O()\n",
    "    counterplays = 1\n",
    "    if player_inX_O =='x': # x start\n",
    "        c=0\n",
    "    else: # y start\n",
    "        c=1\n",
    "    \n",
    "    while gamenotdone(current_board) and counterplays<10:\n",
    "        if c==0: #x turn\n",
    "            playerchoice = player_input_X()\n",
    "            counterplays+=1\n",
    "            while current_board[playerchoice]!=' ':\n",
    "                display_board(current_board)\n",
    "                print('please select a valid empty choice for x:')\n",
    "                playerchoice = player_input_X()\n",
    "            current_board[playerchoice]='X'\n",
    "            display_board(current_board)\n",
    "            c=1\n",
    "        else:# y turn\n",
    "            playerchoice = player_input_o()\n",
    "            counterplays+=1\n",
    "            while current_board[playerchoice]!=' ':\n",
    "                display_board(current_board)\n",
    "                print('please select a valid empty choice for o:')\n",
    "                playerchoice = player_input_o()\n",
    "            current_board[playerchoice]='O'\n",
    "            display_board(current_board)\n",
    "            c=0\n",
    "    if counterplays==10:\n",
    "        print('game ended as a tie')\n",
    "    "
   ]
  },
  {
   "cell_type": "code",
   "execution_count": 37,
   "id": "04b6f542",
   "metadata": {},
   "outputs": [],
   "source": [
    "def gamenotdone(board):\n",
    "    # all possible winning combinations\n",
    "    winning_combinations = [\n",
    "        [1, 2, 3],  # Top row\n",
    "        [4, 5, 6],  # Middle row\n",
    "        [7, 8, 9],  # Bottom row\n",
    "        [1, 4, 7],  # Left column\n",
    "        [2, 5, 8],  # Middle column\n",
    "        [3, 6, 9],  # Right column\n",
    "        [1, 5, 9],  # Diagonal top-left to bottom-right\n",
    "        [3, 5, 7]   # Diagonal top-right to bottom-left\n",
    "    ]\n",
    "\n",
    "    \n",
    "    for combo in winning_combinations:\n",
    "        if board[combo[0]] == board[combo[1]] == board[combo[2]] != ' ':\n",
    "            winner = board[combo[0]]\n",
    "            print(f\"Congrats {winner} HAS WON THE GAME ------\")\n",
    "            return False  # Game is done\n",
    "\n",
    "    # If no winner, return True\n",
    "    return True\n"
   ]
  },
  {
   "cell_type": "code",
   "execution_count": 38,
   "id": "d8b3a3d7",
   "metadata": {},
   "outputs": [
    {
     "name": "stdout",
     "output_type": "stream",
     "text": [
      "enter your choice X or Ox\n",
      "Enter your choice 1-9 for X: 1\n",
      "X| | \n",
      " | | \n",
      " | | \n",
      "Enter your choice 1-9 for O: d\n",
      "Invalid input. Please enter a number between 1 and 9\n",
      "Enter your choice 1-9 for O: 2\n",
      "X|O| \n",
      " | | \n",
      " | | \n",
      "Enter your choice 1-9 for X: 4\n",
      "X|O| \n",
      "X| | \n",
      " | | \n",
      "Enter your choice 1-9 for O: 5\n",
      "X|O| \n",
      "X|O| \n",
      " | | \n",
      "Enter your choice 1-9 for X: 8\n",
      "X|O| \n",
      "X|O| \n",
      " |X| \n",
      "Enter your choice 1-9 for O: 9\n",
      "X|O| \n",
      "X|O| \n",
      " |X|O\n",
      "Enter your choice 1-9 for X: 8\n",
      "X|O| \n",
      "X|O| \n",
      " |X|O\n",
      "please select a valid empty choice for x:\n",
      "Enter your choice 1-9 for X: 7\n",
      "X|O| \n",
      "X|O| \n",
      "X|X|O\n",
      "Congrats X HAS WON THE GAME ------\n"
     ]
    }
   ],
   "source": [
    "game()"
   ]
  },
  {
   "cell_type": "code",
   "execution_count": null,
   "id": "8940b82b",
   "metadata": {},
   "outputs": [],
   "source": []
  }
 ],
 "metadata": {
  "kernelspec": {
   "display_name": "Python 3 (ipykernel)",
   "language": "python",
   "name": "python3"
  },
  "language_info": {
   "codemirror_mode": {
    "name": "ipython",
    "version": 3
   },
   "file_extension": ".py",
   "mimetype": "text/x-python",
   "name": "python",
   "nbconvert_exporter": "python",
   "pygments_lexer": "ipython3",
   "version": "3.9.7"
  }
 },
 "nbformat": 4,
 "nbformat_minor": 5
}
